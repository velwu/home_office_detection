{
 "cells": [
  {
   "cell_type": "code",
   "execution_count": 1,
   "metadata": {},
   "outputs": [],
   "source": [
    "import folium\n",
    "import sys\n",
    "from datetime import datetime\n",
    "import utils\n",
    "import pandas as pd\n",
    "import numpy as np\n",
    "import ipywidgets as widgets\n",
    "from IPython.display import display\n",
    "from geopy import distance\n",
    "from multiprocessing import Pool\n",
    "from research_2 import *"
   ]
  },
  {
   "cell_type": "code",
   "execution_count": 2,
   "metadata": {},
   "outputs": [],
   "source": [
    "# data = utils.read_dmp_data(\"data/0322-0409_batchE_top.csv\")\n",
    "# data_home_and_work = utils.read_home_work_data(\"data/0322-0409_batchE_HW.csv\")\n",
    "fix_map = False\n",
    "epsilon = sys.float_info.epsilon\n",
    "# home_work_node = data_home_and_work.query(f'id == \"{uuid}\"').to_dict(orient='records')[0]\n",
    "# home_work_node"
   ]
  },
  {
   "cell_type": "code",
   "execution_count": 3,
   "metadata": {},
   "outputs": [
    {
     "name": "stdout",
     "output_type": "stream",
     "text": [
      "510016232995249\n",
      "POINT COUNT 91\n",
      "510016232995249\n",
      "POINT COUNT 32\n",
      "510016232995249\n",
      "POINT COUNT 25\n"
     ]
    }
   ],
   "source": [
    "csv_file_path = \"../data/0322-0409_batchA.csv\"\n",
    "date_str = '2023-03-31'\n",
    "uuid = \"510016232995249\"\n",
    "list_threshold_numbers = [1.0, -0.5, -0.8] \n",
    "\n",
    "#NOTE: some IDs have NO point left after -0.5 and -0.8 thresholds\n",
    "# \"510010342736250\", \"510012433336951\" \n",
    "\n",
    "selet_csv_by_date(csv_file_path, date_str)\n",
    "csv_file_path_Mar31 = '../data/' + date_str + 'new_file.csv'\n",
    "data = utils.read_dmp_data(csv_file_path_Mar31)\n",
    "footprint = data[uuid]\n",
    "for th_num in list_threshold_numbers:\n",
    "    render_cosined_map(csv_file_path_Mar31, uuid, th_num)"
   ]
  },
  {
   "attachments": {},
   "cell_type": "markdown",
   "metadata": {},
   "source": [
    "### BORDER"
   ]
  },
  {
   "cell_type": "code",
   "execution_count": 4,
   "metadata": {},
   "outputs": [
    {
     "name": "stdout",
     "output_type": "stream",
     "text": [
      "Angle: 143.13010235415598 degrees\n"
     ]
    }
   ],
   "source": [
    "import math\n",
    "\n",
    "# Cosine value\n",
    "cos_value = -0.8\n",
    "\n",
    "# Calculate the angle in radians\n",
    "angle_rad = math.acos(cos_value)\n",
    "\n",
    "# Convert radians to degrees\n",
    "angle_deg = math.degrees(angle_rad)\n",
    "\n",
    "print(f\"Angle: {angle_deg} degrees\")\n"
   ]
  },
  {
   "cell_type": "code",
   "execution_count": 5,
   "metadata": {},
   "outputs": [],
   "source": [
    "# pipeline(\"510018345732277\")\n",
    "# pipeline(\"510018242552475\")"
   ]
  }
 ],
 "metadata": {
  "kernelspec": {
   "display_name": "Python 3",
   "language": "python",
   "name": "python3"
  },
  "language_info": {
   "codemirror_mode": {
    "name": "ipython",
    "version": 3
   },
   "file_extension": ".py",
   "mimetype": "text/x-python",
   "name": "python",
   "nbconvert_exporter": "python",
   "pygments_lexer": "ipython3",
   "version": "3.10.8"
  },
  "orig_nbformat": 4
 },
 "nbformat": 4,
 "nbformat_minor": 2
}
